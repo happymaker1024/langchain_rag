{
 "cells": [
  {
   "cell_type": "markdown",
   "id": "c422cf33",
   "metadata": {},
   "source": [
    "# 파인콘 테스트"
   ]
  },
  {
   "cell_type": "code",
   "execution_count": 1,
   "id": "3de13d98",
   "metadata": {},
   "outputs": [],
   "source": [
    "from dotenv import load_dotenv\n",
    "import os\n",
    "\n",
    "# .env 파일에서 환경 변수를 로드합니다.\n",
    "load_dotenv(override=True)\n",
    "PINECONE_API_KEY = os.environ['PINECONE_API_KEY']\n",
    "# PINECONE_API_KEY"
   ]
  },
  {
   "cell_type": "code",
   "execution_count": 2,
   "id": "4a7324a9",
   "metadata": {},
   "outputs": [],
   "source": [
    "from pinecone import Pinecone\n",
    "\n",
    "pc = Pinecone(api_key=PINECONE_API_KEY)\n",
    "index = pc.Index(\"embedding-test\")"
   ]
  },
  {
   "cell_type": "code",
   "execution_count": null,
   "id": "e0312630",
   "metadata": {},
   "outputs": [],
   "source": []
  }
 ],
 "metadata": {
  "kernelspec": {
   "display_name": "lc_env",
   "language": "python",
   "name": "python3"
  },
  "language_info": {
   "codemirror_mode": {
    "name": "ipython",
    "version": 3
   },
   "file_extension": ".py",
   "mimetype": "text/x-python",
   "name": "python",
   "nbconvert_exporter": "python",
   "pygments_lexer": "ipython3",
   "version": "3.12.11"
  }
 },
 "nbformat": 4,
 "nbformat_minor": 5
}
