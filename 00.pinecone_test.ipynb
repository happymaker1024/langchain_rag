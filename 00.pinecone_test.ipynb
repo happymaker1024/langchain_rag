{
 "cells": [
  {
   "cell_type": "markdown",
   "id": "c422cf33",
   "metadata": {},
   "source": [
    "# 파인콘 테스트"
   ]
  },
  {
   "cell_type": "code",
   "execution_count": 5,
   "id": "3de13d98",
   "metadata": {},
   "outputs": [],
   "source": [
    "from dotenv import load_dotenv\n",
    "import os\n",
    "\n",
    "# .env 파일에서 환경 변수를 로드합니다.\n",
    "load_dotenv(override=True)\n",
    "PINECONE_API_KEY = os.environ['PINECONE_API_KEY']\n",
    "# PINECONE_API_KEY"
   ]
  },
  {
   "cell_type": "markdown",
   "id": "68c117b4",
   "metadata": {},
   "source": [
    "# pinecone 클라이언트 index 객체 생성"
   ]
  },
  {
   "cell_type": "code",
   "execution_count": 6,
   "id": "4a7324a9",
   "metadata": {},
   "outputs": [],
   "source": [
    "from pinecone import Pinecone\n",
    "\n",
    "pc = Pinecone(api_key=PINECONE_API_KEY)\n",
    "index = pc.Index(\"embedding-test\")"
   ]
  },
  {
   "cell_type": "markdown",
   "id": "30d3bae6",
   "metadata": {},
   "source": [
    "# index 삭제"
   ]
  },
  {
   "cell_type": "code",
   "execution_count": 9,
   "id": "e0312630",
   "metadata": {},
   "outputs": [],
   "source": [
    "## embedding vector DB index 삭제\n",
    "index_name = \"embedding-test\"\n",
    "\n",
    "# Pinecone에 있는 모든 인덱스를 순회합니다.\n",
    "for idx in pc.list_indexes():\n",
    "    # 인덱스 이름이 \"quickstart\"와 일치하는 경우 해당 인덱스를 삭제합니다.\n",
    "    if idx.name == index_name:\n",
    "        pc.delete_index(idx.name)"
   ]
  },
  {
   "cell_type": "markdown",
   "id": "927d0276",
   "metadata": {},
   "source": [
    "# 코드로 index 생성"
   ]
  },
  {
   "cell_type": "code",
   "execution_count": 10,
   "id": "73d0afe7",
   "metadata": {},
   "outputs": [
    {
     "data": {
      "text/plain": [
       "{\n",
       "    \"name\": \"embedding-test\",\n",
       "    \"metric\": \"cosine\",\n",
       "    \"host\": \"embedding-test-9wtgah8.svc.aped-4627-b74a.pinecone.io\",\n",
       "    \"spec\": {\n",
       "        \"serverless\": {\n",
       "            \"cloud\": \"aws\",\n",
       "            \"region\": \"us-east-1\"\n",
       "        }\n",
       "    },\n",
       "    \"status\": {\n",
       "        \"ready\": true,\n",
       "        \"state\": \"Ready\"\n",
       "    },\n",
       "    \"vector_type\": \"dense\",\n",
       "    \"dimension\": 3,\n",
       "    \"deletion_protection\": \"disabled\",\n",
       "    \"tags\": null\n",
       "}"
      ]
     },
     "execution_count": 10,
     "metadata": {},
     "output_type": "execute_result"
    }
   ],
   "source": [
    "from pinecone import ServerlessSpec\n",
    "\n",
    "# Pinecone 인덱스를 생성합니다.\n",
    "# 인덱스 이름은 \"embedding-test\"이고, 차원은 1024, 메트릭은 코사인 유사도를 사용합니다.\n",
    "# 인덱스는 AWS의 us-east-1 리전에서 서버리스 사양으로 생성됩니다.\n",
    "\n",
    "index_name = \"embedding-test\"\n",
    "pc.create_index(\n",
    "    name=index_name,\n",
    "    dimension=3,  # 모델 차원\n",
    "    metric=\"cosine\",  # 모델 메트릭\n",
    "    spec=ServerlessSpec(\n",
    "        cloud=\"aws\",\n",
    "        region=\"us-east-1\"\n",
    "    )\n",
    ")"
   ]
  },
  {
   "cell_type": "code",
   "execution_count": null,
   "id": "11916a42",
   "metadata": {},
   "outputs": [],
   "source": []
  }
 ],
 "metadata": {
  "kernelspec": {
   "display_name": "lc_env",
   "language": "python",
   "name": "python3"
  },
  "language_info": {
   "codemirror_mode": {
    "name": "ipython",
    "version": 3
   },
   "file_extension": ".py",
   "mimetype": "text/x-python",
   "name": "python",
   "nbconvert_exporter": "python",
   "pygments_lexer": "ipython3",
   "version": "3.12.11"
  }
 },
 "nbformat": 4,
 "nbformat_minor": 5
}
